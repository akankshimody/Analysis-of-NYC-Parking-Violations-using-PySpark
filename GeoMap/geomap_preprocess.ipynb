{
 "cells": [
  {
   "cell_type": "code",
   "execution_count": 0,
   "metadata": {
    "colab": {
     "base_uri": "https://localhost:8080/",
     "height": 306
    },
    "colab_type": "code",
    "id": "pVD_vTJL5Cn5",
    "outputId": "602adaed-e055-43f9-a0c1-6a455b9127ca"
   },
   "outputs": [
    {
     "name": "stdout",
     "output_type": "stream",
     "text": [
      "Tue Dec  3 13:54:03 2019       \n",
      "+-----------------------------------------------------------------------------+\n",
      "| NVIDIA-SMI 440.33.01    Driver Version: 418.67       CUDA Version: 10.1     |\n",
      "|-------------------------------+----------------------+----------------------+\n",
      "| GPU  Name        Persistence-M| Bus-Id        Disp.A | Volatile Uncorr. ECC |\n",
      "| Fan  Temp  Perf  Pwr:Usage/Cap|         Memory-Usage | GPU-Util  Compute M. |\n",
      "|===============================+======================+======================|\n",
      "|   0  Tesla K80           Off  | 00000000:00:04.0 Off |                    0 |\n",
      "| N/A   49C    P8    29W / 149W |      0MiB / 11441MiB |      0%      Default |\n",
      "+-------------------------------+----------------------+----------------------+\n",
      "                                                                               \n",
      "+-----------------------------------------------------------------------------+\n",
      "| Processes:                                                       GPU Memory |\n",
      "|  GPU       PID   Type   Process name                             Usage      |\n",
      "|=============================================================================|\n",
      "|  No running processes found                                                 |\n",
      "+-----------------------------------------------------------------------------+\n"
     ]
    }
   ],
   "source": [
    "!nvidia-smi"
   ]
  },
  {
   "cell_type": "code",
   "execution_count": 0,
   "metadata": {
    "colab": {},
    "colab_type": "code",
    "id": "fUfwOJs64A_K"
   },
   "outputs": [],
   "source": [
    "!pip install -U -q PyDrive\n",
    "from pydrive.auth import GoogleAuth\n",
    "from pydrive.drive import GoogleDrive\n",
    "from google.colab import auth\n",
    "from oauth2client.client import GoogleCredentials\n",
    "# Authenticate and create the PyDrive client.\n",
    "auth.authenticate_user()\n",
    "gauth = GoogleAuth()\n",
    "gauth.credentials = GoogleCredentials.get_application_default()\n",
    "drive = GoogleDrive(gauth)"
   ]
  },
  {
   "cell_type": "code",
   "execution_count": 0,
   "metadata": {
    "colab": {
     "base_uri": "https://localhost:8080/",
     "height": 34
    },
    "colab_type": "code",
    "id": "oPjxZMOlCBvZ",
    "outputId": "4af95d84-5bc8-4fc9-d366-43eaafd730f3"
   },
   "outputs": [
    {
     "name": "stdout",
     "output_type": "stream",
     "text": [
      "1H1rKEThhq0Yf6UgjW9b1t6VmE53moe6M\n"
     ]
    }
   ],
   "source": [
    "link = 'https://drive.google.com/open?id=1H1rKEThhq0Yf6UgjW9b1t6VmE53moe6M'\n",
    "fluff, id = link.split('=')\n",
    "print (id) # Verify that you have everything after '='"
   ]
  },
  {
   "cell_type": "code",
   "execution_count": 0,
   "metadata": {
    "colab": {
     "base_uri": "https://localhost:8080/",
     "height": 71
    },
    "colab_type": "code",
    "id": "q3eE9uNBCuxn",
    "outputId": "71880863-60b0-4aa1-ecd0-c9bf846039ed"
   },
   "outputs": [
    {
     "name": "stderr",
     "output_type": "stream",
     "text": [
      "/usr/local/lib/python3.6/dist-packages/IPython/core/interactiveshell.py:2718: DtypeWarning: Columns (18,38) have mixed types. Specify dtype option on import or set low_memory=False.\n",
      "  interactivity=interactivity, compiler=compiler, result=result)\n"
     ]
    }
   ],
   "source": [
    "import pandas as pd\n",
    "downloaded = drive.CreateFile({'id':id}) \n",
    "downloaded.GetContentFile('Filename.csv')  \n",
    "df3 = pd.read_csv('Filename.csv')"
   ]
  },
  {
   "cell_type": "code",
   "execution_count": 0,
   "metadata": {
    "colab": {},
    "colab_type": "code",
    "id": "01aMccRBEZLs"
   },
   "outputs": [],
   "source": [
    "df = df3[df3['Violation County']=='NY']"
   ]
  },
  {
   "cell_type": "code",
   "execution_count": 0,
   "metadata": {
    "colab": {
     "base_uri": "https://localhost:8080/",
     "height": 139
    },
    "colab_type": "code",
    "id": "ibL5RTsTEngA",
    "outputId": "8ad56bcd-0f8b-4ce9-e5bc-283bf59440c6"
   },
   "outputs": [
    {
     "name": "stderr",
     "output_type": "stream",
     "text": [
      "/usr/local/lib/python3.6/dist-packages/ipykernel_launcher.py:1: SettingWithCopyWarning: \n",
      "A value is trying to be set on a copy of a slice from a DataFrame.\n",
      "Try using .loc[row_indexer,col_indexer] = value instead\n",
      "\n",
      "See the caveats in the documentation: http://pandas.pydata.org/pandas-docs/stable/user_guide/indexing.html#returning-a-view-versus-a-copy\n",
      "  \"\"\"Entry point for launching an IPython kernel.\n"
     ]
    }
   ],
   "source": [
    "df ['address'] = df['House Number'] +' ' + df['Street Name']+ ' NYC'\n",
    "# df.to_csv('/content/nycounty.csv')"
   ]
  },
  {
   "cell_type": "code",
   "execution_count": 0,
   "metadata": {
    "colab": {},
    "colab_type": "code",
    "id": "qV3mBcDlh3mw"
   },
   "outputs": [],
   "source": [
    "street = df.groupby(['Street Name'])['Street Name'].count().sort_values(ascending =False)[:10]"
   ]
  },
  {
   "cell_type": "code",
   "execution_count": 0,
   "metadata": {
    "colab": {
     "base_uri": "https://localhost:8080/",
     "height": 561
    },
    "colab_type": "code",
    "id": "CATSC3wQiHDy",
    "outputId": "e28ea790-2781-4d7c-8e50-79e5a6c3377c"
   },
   "outputs": [
    {
     "data": {
      "text/plain": [
       "Street Name\n",
       "Broadway           154482\n",
       "3rd Ave            133682\n",
       "Madison Ave         98845\n",
       "Lexington Ave       79050\n",
       "2nd Ave             76154\n",
       "1st Ave             71917\n",
       "Amsterdam Ave       51724\n",
       "8th Ave             50602\n",
       "6th Ave             50275\n",
       "5th Ave             50041\n",
       "7th Ave             47287\n",
       "Columbus Ave        38898\n",
       "9th Ave             30009\n",
       "Park Ave            25787\n",
       "St Nicholas Ave     23465\n",
       "York Ave            22708\n",
       "W 39th St           22008\n",
       "W 35th St           20856\n",
       "W 38th St           20273\n",
       "W 43rd St           18678\n",
       "W 37th St           18215\n",
       "W 46th St           17279\n",
       "W 40th St           16935\n",
       "W 58th St           16700\n",
       "Church St           16290\n",
       "Greenwich St        15838\n",
       "10th Ave            15224\n",
       "W 45th St           14418\n",
       "W 47th St           13744\n",
       "Pearl St            13724\n",
       "Name: Street Name, dtype: int64"
      ]
     },
     "execution_count": 80,
     "metadata": {
      "tags": []
     },
     "output_type": "execute_result"
    }
   ],
   "source": [
    "street"
   ]
  },
  {
   "cell_type": "code",
   "execution_count": 0,
   "metadata": {
    "colab": {},
    "colab_type": "code",
    "id": "L4dbO9kniIJN"
   },
   "outputs": [],
   "source": [
    "df['year'] = pd.to_datetime(df['Issue Date']).dt.year"
   ]
  },
  {
   "cell_type": "code",
   "execution_count": 0,
   "metadata": {
    "colab": {},
    "colab_type": "code",
    "id": "UH6fsm1-i6o_"
   },
   "outputs": [],
   "source": [
    "df=df[df['year']==2017]"
   ]
  },
  {
   "cell_type": "code",
   "execution_count": 0,
   "metadata": {
    "colab": {},
    "colab_type": "code",
    "id": "2olCYz_PoRze"
   },
   "outputs": [],
   "source": []
  },
  {
   "cell_type": "code",
   "execution_count": 0,
   "metadata": {
    "colab": {
     "base_uri": "https://localhost:8080/",
     "height": 221
    },
    "colab_type": "code",
    "id": "jXKWP1CPkpwn",
    "outputId": "873095d6-8109-48f9-e22a-0c42fb609f96"
   },
   "outputs": [
    {
     "data": {
      "text/plain": [
       "Vehicle Make\n",
       "SAAB     1213\n",
       "TESLA    1172\n",
       "MCI      1034\n",
       "SCION     939\n",
       "SUZUK     901\n",
       "PREVO     784\n",
       "KAWAS     695\n",
       "HARLE     549\n",
       "YAMAH     518\n",
       "MASE      504\n",
       "Name: Vehicle Make, dtype: int64"
      ]
     },
     "execution_count": 85,
     "metadata": {
      "tags": []
     },
     "output_type": "execute_result"
    }
   ],
   "source": [
    "brand = df.groupby(['Vehicle Make'])['Vehicle Make'].count().sort_values(ascending =False)[50:60]\n",
    "brand"
   ]
  },
  {
   "cell_type": "code",
   "execution_count": 0,
   "metadata": {
    "colab": {},
    "colab_type": "code",
    "id": "1s8rPoAmkq0v"
   },
   "outputs": [],
   "source": [
    "dfcarporsc = df[df['Vehicle Make']=='PORSC']\n",
    "dfcarmart = df[df['Vehicle Make']=='SMART']\n"
   ]
  },
  {
   "cell_type": "code",
   "execution_count": 0,
   "metadata": {
    "colab": {},
    "colab_type": "code",
    "id": "Ac6jZmULm1G5"
   },
   "outputs": [],
   "source": [
    "porloc = dfcarporsc.groupby(['Street Name'])['Street Name'].count().sort_values(ascending =False)[:10]"
   ]
  },
  {
   "cell_type": "code",
   "execution_count": 0,
   "metadata": {
    "colab": {},
    "colab_type": "code",
    "id": "dbC7tgn9oa5b"
   },
   "outputs": [],
   "source": [
    "smartloc = dfcarmart.groupby(['Street Name'])['Street Name'].count().sort_values(ascending =False)[:10]"
   ]
  },
  {
   "cell_type": "code",
   "execution_count": 0,
   "metadata": {
    "colab": {
     "base_uri": "https://localhost:8080/",
     "height": 221
    },
    "colab_type": "code",
    "id": "R-WPnrMhpfZc",
    "outputId": "ae2506db-7f69-457f-f3ea-ba79b2fcb68c"
   },
   "outputs": [
    {
     "data": {
      "text/plain": [
       "Street Name\n",
       "Broadway         130\n",
       "3rd Ave           82\n",
       "1st Ave           72\n",
       "Water St          47\n",
       "Madison Ave       43\n",
       "Lexington Ave     41\n",
       "Amsterdam Ave     37\n",
       "E 64th St         31\n",
       "Church St         28\n",
       "Forsyth St        28\n",
       "Name: Street Name, dtype: int64"
      ]
     },
     "execution_count": 88,
     "metadata": {
      "tags": []
     },
     "output_type": "execute_result"
    }
   ],
   "source": [
    "dfcartesla = df[df['Vehicle Make']=='TESLA']\n",
    "teslaloc = dfcartesla.groupby(['Street Name'])['Street Name'].count().sort_values(ascending =False)[:10]\n",
    "teslaloc"
   ]
  },
  {
   "cell_type": "code",
   "execution_count": 0,
   "metadata": {
    "colab": {
     "base_uri": "https://localhost:8080/",
     "height": 419
    },
    "colab_type": "code",
    "id": "p9FnpJx88UH9",
    "outputId": "b190f5f6-713e-4ec9-e50c-4e711b92f2f8"
   },
   "outputs": [
    {
     "data": {
      "text/html": [
       "<div>\n",
       "<style scoped>\n",
       "    .dataframe tbody tr th:only-of-type {\n",
       "        vertical-align: middle;\n",
       "    }\n",
       "\n",
       "    .dataframe tbody tr th {\n",
       "        vertical-align: top;\n",
       "    }\n",
       "\n",
       "    .dataframe thead th {\n",
       "        text-align: right;\n",
       "    }\n",
       "</style>\n",
       "<table border=\"1\" class=\"dataframe\">\n",
       "  <thead>\n",
       "    <tr style=\"text-align: right;\">\n",
       "      <th></th>\n",
       "      <th>address</th>\n",
       "      <th>city</th>\n",
       "      <th>State</th>\n",
       "      <th>zipcode</th>\n",
       "    </tr>\n",
       "  </thead>\n",
       "  <tbody>\n",
       "    <tr>\n",
       "      <th>15783</th>\n",
       "      <td>842 6th Ave NYC</td>\n",
       "      <td>New York City</td>\n",
       "      <td>NY</td>\n",
       "      <td></td>\n",
       "    </tr>\n",
       "    <tr>\n",
       "      <th>15786</th>\n",
       "      <td>613 E 6th St NYC</td>\n",
       "      <td>New York City</td>\n",
       "      <td>NY</td>\n",
       "      <td></td>\n",
       "    </tr>\n",
       "    <tr>\n",
       "      <th>15790</th>\n",
       "      <td>26 E 14th St NYC</td>\n",
       "      <td>New York City</td>\n",
       "      <td>NY</td>\n",
       "      <td></td>\n",
       "    </tr>\n",
       "    <tr>\n",
       "      <th>15792</th>\n",
       "      <td>02 W 58th St NYC</td>\n",
       "      <td>New York City</td>\n",
       "      <td>NY</td>\n",
       "      <td></td>\n",
       "    </tr>\n",
       "    <tr>\n",
       "      <th>15795</th>\n",
       "      <td>61 E 11th St NYC</td>\n",
       "      <td>New York City</td>\n",
       "      <td>NY</td>\n",
       "      <td></td>\n",
       "    </tr>\n",
       "    <tr>\n",
       "      <th>...</th>\n",
       "      <td>...</td>\n",
       "      <td>...</td>\n",
       "      <td>...</td>\n",
       "      <td>...</td>\n",
       "    </tr>\n",
       "    <tr>\n",
       "      <th>23479</th>\n",
       "      <td>279 Amsterdam Ave NYC</td>\n",
       "      <td>New York City</td>\n",
       "      <td>NY</td>\n",
       "      <td></td>\n",
       "    </tr>\n",
       "    <tr>\n",
       "      <th>23490</th>\n",
       "      <td>655 6th Ave NYC</td>\n",
       "      <td>New York City</td>\n",
       "      <td>NY</td>\n",
       "      <td></td>\n",
       "    </tr>\n",
       "    <tr>\n",
       "      <th>23491</th>\n",
       "      <td>1064 Madison Ave NYC</td>\n",
       "      <td>New York City</td>\n",
       "      <td>NY</td>\n",
       "      <td></td>\n",
       "    </tr>\n",
       "    <tr>\n",
       "      <th>23493</th>\n",
       "      <td>79 Avenue A NYC</td>\n",
       "      <td>New York City</td>\n",
       "      <td>NY</td>\n",
       "      <td></td>\n",
       "    </tr>\n",
       "    <tr>\n",
       "      <th>23497</th>\n",
       "      <td>188 Grand St NYC</td>\n",
       "      <td>New York City</td>\n",
       "      <td>NY</td>\n",
       "      <td></td>\n",
       "    </tr>\n",
       "  </tbody>\n",
       "</table>\n",
       "<p>2451 rows × 4 columns</p>\n",
       "</div>"
      ],
      "text/plain": [
       "                     address           city State zipcode\n",
       "15783        842 6th Ave NYC  New York City    NY        \n",
       "15786       613 E 6th St NYC  New York City    NY        \n",
       "15790       26 E 14th St NYC  New York City    NY        \n",
       "15792       02 W 58th St NYC  New York City    NY        \n",
       "15795       61 E 11th St NYC  New York City    NY        \n",
       "...                      ...            ...   ...     ...\n",
       "23479  279 Amsterdam Ave NYC  New York City    NY        \n",
       "23490        655 6th Ave NYC  New York City    NY        \n",
       "23491   1064 Madison Ave NYC  New York City    NY        \n",
       "23493        79 Avenue A NYC  New York City    NY        \n",
       "23497       188 Grand St NYC  New York City    NY        \n",
       "\n",
       "[2451 rows x 4 columns]"
      ]
     },
     "execution_count": 7,
     "metadata": {
      "tags": []
     },
     "output_type": "execute_result"
    }
   ],
   "source": [
    "\n",
    "#used this block to produce csv for processing with https://geoservices.tamu.edu/default.aspx\n",
    "#ran twice to get 2500 each \n",
    "df22 = pd.DataFrame(df['address'].iloc[5001:7500])\n",
    "df22 = df22.dropna(how = 'any')\n",
    "df22['city'] = 'New York City'\n",
    "df22['State'] = 'NY'\n",
    "df22['zipcode'] = ''\n",
    "df22.to_csv('ny3.csv')\n",
    "df22"
   ]
  }
 ],
 "metadata": {
  "accelerator": "GPU",
  "colab": {
   "collapsed_sections": [],
   "name": "Geo_preprocess.ipynb",
   "provenance": []
  },
  "kernelspec": {
   "display_name": "Python 3",
   "language": "python",
   "name": "python3"
  },
  "language_info": {
   "codemirror_mode": {
    "name": "ipython",
    "version": 3
   },
   "file_extension": ".py",
   "mimetype": "text/x-python",
   "name": "python",
   "nbconvert_exporter": "python",
   "pygments_lexer": "ipython3",
   "version": "3.7.3"
  }
 },
 "nbformat": 4,
 "nbformat_minor": 1
}
